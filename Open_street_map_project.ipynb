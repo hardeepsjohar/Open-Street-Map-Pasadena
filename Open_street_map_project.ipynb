{
 "cells": [
  {
   "cell_type": "markdown",
   "metadata": {},
   "source": [
    "# Open Street Map Case Study"
   ]
  },
  {
   "cell_type": "markdown",
   "metadata": {},
   "source": [
    "## Destination: Pasadena, CA!\n",
    "\n",
    "https://www.openstreetmap.org/#map=13/34.1247/-118.0944\n",
    "\n",
    "I chose Pasadena because I grew up there and spent over 20 years there so I am very familiar with it."
   ]
  },
  {
   "cell_type": "markdown",
   "metadata": {},
   "source": [
    "Please see Open_street_map.py for code."
   ]
  },
  {
   "cell_type": "markdown",
   "metadata": {
    "collapsed": true
   },
   "source": [
    "## Issues:\n",
    "\n",
    "Many lists and dictionaries needed specific types and needed to be global variables so that multiple functions could do focused and specific work towards the goal of cleaning the data.\n",
    "\n",
    "    street_types = defaultdict(set)\n",
    "    zip_types = defaultdict(set)\n",
    "    street_fixes_list = []\n",
    "    street_fixes = defaultdict(list)\n",
    "    names_dict = defaultdict()"
   ]
  },
  {
   "cell_type": "markdown",
   "metadata": {},
   "source": [
    "### Street Name issues:"
   ]
  },
  {
   "cell_type": "markdown",
   "metadata": {},
   "source": [
    "Removing all unit numbers when populating the street_fixes dictionary:\n",
    "    \n",
    "    if not street_type[-1].isdigit()"
   ]
  },
  {
   "cell_type": "markdown",
   "metadata": {},
   "source": [
    "Bringing in the element so that element id # can be extracted after it is determined whether the tag value is usable or not:\n",
    "\n",
    "    def audit_street_type(street_types, street_name, elem):"
   ]
  },
  {
   "cell_type": "markdown",
   "metadata": {},
   "source": [
    "Combining different dictionaries to make 1 useful one so that the section of the code which writes the CSV files does not need to be changed much:\n",
    "\n",
    "    for old_name, new_name in names_dict.iteritems():\n",
    "        for k, v in street_fixes.iteritems():\n",
    "            if list(v)[0] == old_name:\n",
    "                street_fixes[k].append(names_dict[list(v)[0]])"
   ]
  },
  {
   "cell_type": "markdown",
   "metadata": {},
   "source": [
    "### Zip Code specific issues:"
   ]
  },
  {
   "cell_type": "markdown",
   "metadata": {},
   "source": [
    "After creating the dictionary of zipcodes and their associated values, still having to remove the \"CA\"\n",
    "\n",
    "    for zip_type, zipcode in zip_types.iteritems():\n",
    "        for zipc in zipcode:\n",
    "            if \"CA\" in zipc:\n",
    "                print zipc, \"=>\", zip_type"
   ]
  },
  {
   "cell_type": "markdown",
   "metadata": {},
   "source": [
    "Having 1 zip code which wasn't in the dictionary because of problem characters, so the value wasn't upated automatically and therefore a specific logic had to be madein the change_name function:\n",
    "\n",
    "    elif tag.attrib['k'] == \"addr:postcode\":\n",
    "        for k, v in zip_types.iteritems():\n",
    "            if k in name:\n",
    "                return k\n",
    "            elif \"90032\" in name:\n",
    "                return \"90032\""
   ]
  },
  {
   "cell_type": "markdown",
   "metadata": {},
   "source": [
    "## Solution\n",
    "\n",
    "After all the dictionaries worked together to make 2 useful ones (one of Street names and one of Zip codes), half a line of code referred to a function which did all the work to clean the data:\n"
   ]
  },
  {
   "cell_type": "markdown",
   "metadata": {},
   "source": [
    "Updating all necessary values (if needed) in 1 line:\n",
    "\n",
    "    tag_dict[\"value\"] = change_name(tag, tag_dict[\"id\"], tag.attrib['v'])"
   ]
  },
  {
   "cell_type": "markdown",
   "metadata": {},
   "source": [
    "# Incredible Data!!"
   ]
  },
  {
   "cell_type": "markdown",
   "metadata": {},
   "source": [
    "After living in Pasadena for so many years, seeing all this real data is really fascinating!"
   ]
  },
  {
   "cell_type": "markdown",
   "metadata": {},
   "source": [
    "### Zip codes in Region:\n",
    "\n",
    "    sqlite> SELECT tags.value, COUNT(*) as count \n",
    "       ...> FROM (SELECT * FROM nodes_tags \n",
    "       ...>   UNION ALL \n",
    "       ...>       SELECT * FROM ways_tags) tags\n",
    "       ...> WHERE tags.key='postcode'\n",
    "       ...> GROUP BY tags.value\n",
    "       ...> ORDER BY count DESC;\n",
    "    91776,229\n",
    "    91030,106\n",
    "    91105,106\n",
    "    91106,81\n",
    "    91007,42\n",
    "    91801,35\n",
    "    90042,32\n",
    "    91101,28\n",
    "    91107,27\n",
    "    91103,24\n",
    "    91780,13\n",
    "    90041,7\n",
    "    91775,6\n",
    "    91803,6\n",
    "    91102,5\n",
    "    91108,3\n",
    "    90032,2\n",
    "    90065,2\n",
    "    90041-1238,1\n",
    "    90042-4229,1\n",
    "    91006,1\n",
    "    91109,1\n",
    "    91125,1\n",
    "    91182,1\n",
    "    91770,1\n",
    "    91778,1"
   ]
  },
  {
   "cell_type": "markdown",
   "metadata": {},
   "source": [
    "### Top 10 Amenities in Pasadena:\n",
    "\n",
    "    sqlite> SELECT value, COUNT(*) as num\n",
    "       ...> FROM nodes_tags\n",
    "       ...> WHERE key='amenity'\n",
    "       ...> GROUP BY value\n",
    "       ...> ORDER BY num DESC\n",
    "       ...> LIMIT 10;\n",
    "    restaurant,187\n",
    "    place_of_worship,140\n",
    "    fast_food,93\n",
    "    cafe,66\n",
    "    school,66\n",
    "    bank,40\n",
    "    fuel,32\n",
    "    post_box,25\n",
    "    post_office,22\n",
    "    library,19"
   ]
  },
  {
   "cell_type": "markdown",
   "metadata": {},
   "source": [
    "### Top 10 types of Restaurants in Pasadena:\n",
    "\n",
    "    sqlite> SELECT nodes_tags.value, COUNT(*) as num\n",
    "       ...> FROM nodes_tags \n",
    "       ...>     JOIN (SELECT DISTINCT(id) FROM nodes_tags WHERE value='restaurant') i\n",
    "       ...>     ON nodes_tags.id=i.id\n",
    "       ...> WHERE nodes_tags.key='cuisine'\n",
    "       ...> GROUP BY nodes_tags.value\n",
    "       ...> ORDER BY num DESC\n",
    "       ...> LIMIT 10;\n",
    "    mexican,15\n",
    "    chinese,14\n",
    "    american,9\n",
    "    italian,9\n",
    "    burger,7\n",
    "    japanese,7\n",
    "    sandwich,7\n",
    "    sushi,7\n",
    "    thai,5\n",
    "    asian,4"
   ]
  },
  {
   "cell_type": "markdown",
   "metadata": {},
   "source": [
    "# Data Overview"
   ]
  },
  {
   "cell_type": "markdown",
   "metadata": {},
   "source": [
    "### File Sizes\n",
    "\n",
    "    nodes_tags.csv.......624 KB\n",
    "    nodes.csv............128.7 MB\n",
    "    pasadena.osm.........320.4 MB\n",
    "    ways_nodes.csv.......36.6 MB\n",
    "    ways_tags.csv........28.1 MB\n",
    "    ways.csv.............9.4 MB"
   ]
  },
  {
   "cell_type": "markdown",
   "metadata": {},
   "source": [
    "### Number of Nodes:\n",
    "    \n",
    "    sqlite> SELECT COUNT(*) FROM nodes;\n",
    "    1361733"
   ]
  },
  {
   "cell_type": "markdown",
   "metadata": {},
   "source": [
    "### Number of Ways:\n",
    "\n",
    "    sqlite> SELECT COUNT(*) FROM ways;\n",
    "    135944"
   ]
  },
  {
   "cell_type": "markdown",
   "metadata": {},
   "source": [
    "### Number of unique users\n",
    "\n",
    "    sqlite> SELECT COUNT(DISTINCT(e.uid))          \n",
    "       ...> FROM (SELECT uid FROM nodes UNION ALL SELECT uid FROM ways) e;\n",
    "    443\n"
   ]
  },
  {
   "cell_type": "markdown",
   "metadata": {},
   "source": [
    "### Top 10 contributing users\n",
    "\n",
    "    sqlite> SELECT e.user, COUNT(*) as num\n",
    "       ...> FROM (SELECT user FROM nodes UNION ALL SELECT user FROM ways) e\n",
    "       ...> GROUP BY e.user\n",
    "       ...> ORDER BY num DESC\n",
    "       ...> LIMIT 10;\n",
    "    RichRico_labuildings,156414\n",
    "    upendra_labuilding,143185\n",
    "    poornima_labuildings,134275\n",
    "    nammala_labuildings,133365\n",
    "    Luis36995_labuildings,105991\n",
    "    dannykath_labuildings,99443\n",
    "    schleuss_imports,87816\n",
    "    piligab_labuildings,85610\n",
    "    calfarome_labuilding,71810\n",
    "    Aloisian,60081"
   ]
  },
  {
   "cell_type": "markdown",
   "metadata": {
    "collapsed": true
   },
   "source": [
    "### Other ideas about the dataset\n",
    "\n",
    "    When one looks at the top 20 contributors:\n",
    "    \n",
    "    RichRico_labuildings,156414\n",
    "    upendra_labuilding,143185\n",
    "    poornima_labuildings,134275\n",
    "    nammala_labuildings,133365\n",
    "    Luis36995_labuildings,105991\n",
    "    dannykath_labuildings,99443\n",
    "    schleuss_imports,87816\n",
    "    piligab_labuildings,85610\n",
    "    calfarome_labuilding,71810\n",
    "    Aloisian,60081\n",
    "    karitotp_labuildings,56976\n",
    "    saikabhi_LA_imports,39034\n",
    "    manings_labuildings,28213\n",
    "    nikhil_imports,27740\n",
    "    yurasi_import,27091\n",
    "    ridixcr_import,25003\n",
    "    BharataHS_laimport,24315\n",
    "    JRHutson_Import,22001\n",
    "    jerjozwik,19225\n",
    "    Fa7C0N_imports,17445\n",
    "    \n",
    "    The majority of contributions are coming from 2 organizations: labuilding and import(s)\n",
    "    \n",
    "    Total contributions: 1,497,677\n",
    "    Total contirbutions from top 10 users: 1,077,990\n",
    "    Total contributions from top 20 users: 1,365,033\n",
    "    Top 10 users are contributing 72% of the data.\n",
    "    Top 20 users are contributing 91% of the data.\n",
    "    \n",
    "    Number of unique users: 443\n",
    "    Number of unique users having <10 contributions: 229\n",
    "    \n",
    "    Gamification would lead to a more balanced spectrum of contributions.  Clearly there is interest and individual users are contributing but their motivations seem to be limited.  Having rewards they can share or competitions for individual users to gain prestige/prominance in their region would create incentive to increase their level of contribution.\n",
    "    \n",
    "    More information on how gamification can increase user engagement:\n",
    "    \n",
    " https://www.forbes.com/sites/gartnergroup/2014/04/10/how-gamification-motivates-the-masses/#73c2ec0d5c04\n",
    " \n",
    " http://www.cmswire.com/cms/social-business/how-gamification-can-impact-employee-engagement-infographic-019914.php\n",
    " \n",
    " http://engageemployee.com/peer-peer-gamification-can-democratise-employee-engagement/"
   ]
  },
  {
   "cell_type": "markdown",
   "metadata": {},
   "source": [
    "### Anticipated issues of improving the dataset\n",
    "\n",
    "    The complexity arises from the requirement that knowledge of coding as a requirement to contribute is a huge learning curve for the average citizen to overcome.  To do so without getting any financial compensation in order to contribute for the greater good is a pretty high expectation.\n",
    "    \n",
    "    However, going through this as I am, I can definitely say that a step by step guide to contributing which is made in layman's terms would be a huge step towards increasing the audience that can contribute.  Basic learning can also be encouraged by mentioning that they would not only be contributing to their own hometown region but be learning the basic skills which are increasingly powering the world ahead."
   ]
  }
 ],
 "metadata": {
  "kernelspec": {
   "display_name": "Python 2",
   "language": "python",
   "name": "python2"
  },
  "language_info": {
   "codemirror_mode": {
    "name": "ipython",
    "version": 2
   },
   "file_extension": ".py",
   "mimetype": "text/x-python",
   "name": "python",
   "nbconvert_exporter": "python",
   "pygments_lexer": "ipython2",
   "version": "2.7.13"
  }
 },
 "nbformat": 4,
 "nbformat_minor": 2
}
